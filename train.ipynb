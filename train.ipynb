{
 "cells": [
  {
   "cell_type": "code",
   "execution_count": 1,
   "metadata": {},
   "outputs": [],
   "source": [
    "import os\n",
    "from datetime import datetime\n",
    "import torch\n",
    "import torch.nn as nn\n",
    "import torch.optim as optim\n",
    "import torch.nn.functional as F\n",
    "from torch.utils.data import DataLoader, random_split\n",
    "from tqdm import tqdm\n",
    "from sklearn.model_selection import train_test_split\n",
    "from utils import tokenize, pad_sequence, create_vocab, calculate_max_len\n",
    "from dataset import SMILESDataset\n",
    "from model import TransformerVAE\n",
    "from cfg import Config"
   ]
  },
  {
   "cell_type": "code",
   "execution_count": 2,
   "metadata": {},
   "outputs": [],
   "source": [
    "def train_epoch(model, dataloader, optimizer, criterion, device, beta):\n",
    "    model.train()\n",
    "    total_loss = 0\n",
    "    for batch in tqdm(dataloader, desc=\"Training\"):\n",
    "        input_ids, attention_mask = batch\n",
    "        input_ids, attention_mask = input_ids.to(device), attention_mask.to(device)\n",
    "        \n",
    "        optimizer.zero_grad()\n",
    "        logits, mu, logvar = model(input_ids, attention_mask)\n",
    "        loss = criterion(logits, input_ids, mu, logvar, beta)\n",
    "        loss.backward()\n",
    "        optimizer.step()\n",
    "        \n",
    "        total_loss += loss.item()\n",
    "    return total_loss / len(dataloader)\n",
    "\n",
    "def validate_epoch(model, dataloader, criterion, device, beta):\n",
    "    model.eval()\n",
    "    total_loss = 0\n",
    "    with torch.no_grad():\n",
    "        for batch in tqdm(dataloader, desc=\"Validation\"):\n",
    "            input_ids, attention_mask = batch\n",
    "            input_ids, attention_mask = input_ids.to(device), attention_mask.to(device)\n",
    "            \n",
    "            logits, mu, logvar = model(input_ids, attention_mask)\n",
    "            loss = criterion(logits, input_ids, mu, logvar, beta)\n",
    "            \n",
    "            total_loss += loss.item()\n",
    "    return total_loss / len(dataloader)"
   ]
  },
  {
   "cell_type": "code",
   "execution_count": 3,
   "metadata": {},
   "outputs": [],
   "source": [
    "def vae_loss(logits, target, mu, logvar, beta):\n",
    "    # Reconstruction loss\n",
    "    recon_loss = F.cross_entropy(logits.view(-1, logits.size(-1)), target.view(-1), reduction='sum')\n",
    "    \n",
    "    # KL divergence loss\n",
    "    kl_div = -0.5 * torch.sum(1 + logvar - mu.pow(2) - logvar.exp())\n",
    "    \n",
    "    return recon_loss + beta * kl_div"
   ]
  },
  {
   "cell_type": "code",
   "execution_count": 4,
   "metadata": {},
   "outputs": [
    {
     "name": "stderr",
     "output_type": "stream",
     "text": [
      "/home/a2021010705/miniconda3/envs/pt/lib/python3.10/site-packages/torch/nn/modules/transformer.py:379: UserWarning: enable_nested_tensor is True, but self.use_nested_tensor is False because encoder_layer.self_attn.batch_first was not True(use batch_first for better inference performance)\n",
      "  warnings.warn(\n",
      "Training: 100%|██████████| 191/191 [00:11<00:00, 17.05it/s]\n",
      "Validation: 100%|██████████| 24/24 [00:00<00:00, 59.40it/s]\n"
     ]
    },
    {
     "name": "stdout",
     "output_type": "stream",
     "text": [
      "Time: 20241126-1358, Epoch 1/30, Train Loss: 1234.5307, Val Loss: 39.3498\n"
     ]
    },
    {
     "name": "stderr",
     "output_type": "stream",
     "text": [
      "Training: 100%|██████████| 191/191 [00:10<00:00, 18.02it/s]\n",
      "Validation: 100%|██████████| 24/24 [00:00<00:00, 55.95it/s]\n"
     ]
    },
    {
     "name": "stdout",
     "output_type": "stream",
     "text": [
      "Time: 20241126-1359, Epoch 2/30, Train Loss: 30.8527, Val Loss: 14.1665\n"
     ]
    },
    {
     "name": "stderr",
     "output_type": "stream",
     "text": [
      "Training: 100%|██████████| 191/191 [00:11<00:00, 17.31it/s]\n",
      "Validation: 100%|██████████| 24/24 [00:00<00:00, 59.87it/s]\n"
     ]
    },
    {
     "name": "stdout",
     "output_type": "stream",
     "text": [
      "Time: 20241126-1359, Epoch 3/30, Train Loss: 13.7219, Val Loss: 7.3944\n"
     ]
    },
    {
     "name": "stderr",
     "output_type": "stream",
     "text": [
      "Training: 100%|██████████| 191/191 [00:10<00:00, 17.86it/s]\n",
      "Validation: 100%|██████████| 24/24 [00:00<00:00, 59.90it/s]\n"
     ]
    },
    {
     "name": "stdout",
     "output_type": "stream",
     "text": [
      "Time: 20241126-1359, Epoch 4/30, Train Loss: 7.8717, Val Loss: 4.4424\n"
     ]
    },
    {
     "name": "stderr",
     "output_type": "stream",
     "text": [
      "Training: 100%|██████████| 191/191 [00:10<00:00, 17.54it/s]\n",
      "Validation: 100%|██████████| 24/24 [00:00<00:00, 60.58it/s]\n"
     ]
    },
    {
     "name": "stdout",
     "output_type": "stream",
     "text": [
      "Time: 20241126-1359, Epoch 5/30, Train Loss: 5.0934, Val Loss: 2.8502\n"
     ]
    },
    {
     "name": "stderr",
     "output_type": "stream",
     "text": [
      "Training: 100%|██████████| 191/191 [00:11<00:00, 16.15it/s]\n",
      "Validation: 100%|██████████| 24/24 [00:00<00:00, 65.11it/s]\n"
     ]
    },
    {
     "name": "stdout",
     "output_type": "stream",
     "text": [
      "Time: 20241126-1359, Epoch 6/30, Train Loss: 3.5386, Val Loss: 1.9016\n"
     ]
    },
    {
     "name": "stderr",
     "output_type": "stream",
     "text": [
      "Training: 100%|██████████| 191/191 [00:11<00:00, 16.92it/s]\n",
      "Validation: 100%|██████████| 24/24 [00:00<00:00, 59.03it/s]\n"
     ]
    },
    {
     "name": "stdout",
     "output_type": "stream",
     "text": [
      "Time: 20241126-1400, Epoch 7/30, Train Loss: 2.5203, Val Loss: 1.3873\n"
     ]
    },
    {
     "name": "stderr",
     "output_type": "stream",
     "text": [
      "Training: 100%|██████████| 191/191 [00:11<00:00, 17.33it/s]\n",
      "Validation: 100%|██████████| 24/24 [00:00<00:00, 59.13it/s]\n"
     ]
    },
    {
     "name": "stdout",
     "output_type": "stream",
     "text": [
      "Time: 20241126-1400, Epoch 8/30, Train Loss: 1.8980, Val Loss: 1.0127\n"
     ]
    },
    {
     "name": "stderr",
     "output_type": "stream",
     "text": [
      "Training: 100%|██████████| 191/191 [00:10<00:00, 19.03it/s]\n",
      "Validation: 100%|██████████| 24/24 [00:00<00:00, 59.48it/s]\n"
     ]
    },
    {
     "name": "stdout",
     "output_type": "stream",
     "text": [
      "Time: 20241126-1400, Epoch 9/30, Train Loss: 1.4651, Val Loss: 0.7564\n"
     ]
    },
    {
     "name": "stderr",
     "output_type": "stream",
     "text": [
      "Training: 100%|██████████| 191/191 [00:09<00:00, 19.24it/s]\n",
      "Validation: 100%|██████████| 24/24 [00:00<00:00, 60.65it/s]\n"
     ]
    },
    {
     "name": "stdout",
     "output_type": "stream",
     "text": [
      "Time: 20241126-1400, Epoch 10/30, Train Loss: 1.1584, Val Loss: 0.5961\n"
     ]
    },
    {
     "name": "stderr",
     "output_type": "stream",
     "text": [
      "Training: 100%|██████████| 191/191 [00:08<00:00, 23.52it/s]\n",
      "Validation: 100%|██████████| 24/24 [00:00<00:00, 59.30it/s]\n"
     ]
    },
    {
     "name": "stdout",
     "output_type": "stream",
     "text": [
      "Time: 20241126-1400, Epoch 11/30, Train Loss: 0.9279, Val Loss: 0.4798\n"
     ]
    },
    {
     "name": "stderr",
     "output_type": "stream",
     "text": [
      "Training: 100%|██████████| 191/191 [00:10<00:00, 17.48it/s]\n",
      "Validation: 100%|██████████| 24/24 [00:00<00:00, 60.10it/s]\n"
     ]
    },
    {
     "name": "stdout",
     "output_type": "stream",
     "text": [
      "Time: 20241126-1400, Epoch 12/30, Train Loss: 0.7727, Val Loss: 0.3957\n"
     ]
    },
    {
     "name": "stderr",
     "output_type": "stream",
     "text": [
      "Training: 100%|██████████| 191/191 [00:09<00:00, 19.75it/s]\n",
      "Validation: 100%|██████████| 24/24 [00:00<00:00, 62.70it/s]\n"
     ]
    },
    {
     "name": "stdout",
     "output_type": "stream",
     "text": [
      "Time: 20241126-1401, Epoch 13/30, Train Loss: 0.6313, Val Loss: 0.3264\n"
     ]
    },
    {
     "name": "stderr",
     "output_type": "stream",
     "text": [
      "Training: 100%|██████████| 191/191 [00:07<00:00, 24.91it/s]\n",
      "Validation: 100%|██████████| 24/24 [00:00<00:00, 60.12it/s]\n"
     ]
    },
    {
     "name": "stdout",
     "output_type": "stream",
     "text": [
      "Time: 20241126-1401, Epoch 14/30, Train Loss: 0.5417, Val Loss: 0.2774\n"
     ]
    },
    {
     "name": "stderr",
     "output_type": "stream",
     "text": [
      "Training: 100%|██████████| 191/191 [00:10<00:00, 18.17it/s]\n",
      "Validation: 100%|██████████| 24/24 [00:00<00:00, 61.32it/s]\n"
     ]
    },
    {
     "name": "stdout",
     "output_type": "stream",
     "text": [
      "Time: 20241126-1401, Epoch 15/30, Train Loss: 0.4546, Val Loss: 0.2311\n"
     ]
    },
    {
     "name": "stderr",
     "output_type": "stream",
     "text": [
      "Training: 100%|██████████| 191/191 [00:10<00:00, 18.24it/s]\n",
      "Validation: 100%|██████████| 24/24 [00:00<00:00, 60.30it/s]\n"
     ]
    },
    {
     "name": "stdout",
     "output_type": "stream",
     "text": [
      "Time: 20241126-1401, Epoch 16/30, Train Loss: 0.3880, Val Loss: 0.1935\n"
     ]
    },
    {
     "name": "stderr",
     "output_type": "stream",
     "text": [
      "Training: 100%|██████████| 191/191 [00:10<00:00, 18.64it/s]\n",
      "Validation: 100%|██████████| 24/24 [00:00<00:00, 59.08it/s]\n"
     ]
    },
    {
     "name": "stdout",
     "output_type": "stream",
     "text": [
      "Time: 20241126-1401, Epoch 17/30, Train Loss: 0.3380, Val Loss: 0.1645\n"
     ]
    },
    {
     "name": "stderr",
     "output_type": "stream",
     "text": [
      "Training: 100%|██████████| 191/191 [00:10<00:00, 17.61it/s]\n",
      "Validation: 100%|██████████| 24/24 [00:00<00:00, 60.97it/s]\n"
     ]
    },
    {
     "name": "stdout",
     "output_type": "stream",
     "text": [
      "Time: 20241126-1401, Epoch 18/30, Train Loss: 0.2887, Val Loss: 0.1416\n"
     ]
    },
    {
     "name": "stderr",
     "output_type": "stream",
     "text": [
      "Training: 100%|██████████| 191/191 [00:10<00:00, 18.36it/s]\n",
      "Validation: 100%|██████████| 24/24 [00:00<00:00, 59.89it/s]\n"
     ]
    },
    {
     "name": "stdout",
     "output_type": "stream",
     "text": [
      "Time: 20241126-1402, Epoch 19/30, Train Loss: 0.2529, Val Loss: 0.1237\n"
     ]
    },
    {
     "name": "stderr",
     "output_type": "stream",
     "text": [
      "Training: 100%|██████████| 191/191 [00:10<00:00, 17.71it/s]\n",
      "Validation: 100%|██████████| 24/24 [00:00<00:00, 58.18it/s]\n"
     ]
    },
    {
     "name": "stdout",
     "output_type": "stream",
     "text": [
      "Time: 20241126-1402, Epoch 20/30, Train Loss: 0.2220, Val Loss: 0.1082\n"
     ]
    },
    {
     "name": "stderr",
     "output_type": "stream",
     "text": [
      "Training: 100%|██████████| 191/191 [00:10<00:00, 17.86it/s]\n",
      "Validation: 100%|██████████| 24/24 [00:00<00:00, 60.61it/s]\n"
     ]
    },
    {
     "name": "stdout",
     "output_type": "stream",
     "text": [
      "Time: 20241126-1402, Epoch 21/30, Train Loss: 0.1943, Val Loss: 0.0933\n"
     ]
    },
    {
     "name": "stderr",
     "output_type": "stream",
     "text": [
      "Training: 100%|██████████| 191/191 [00:11<00:00, 17.00it/s]\n",
      "Validation: 100%|██████████| 24/24 [00:00<00:00, 59.72it/s]\n"
     ]
    },
    {
     "name": "stdout",
     "output_type": "stream",
     "text": [
      "Time: 20241126-1402, Epoch 22/30, Train Loss: 0.1726, Val Loss: 0.0840\n"
     ]
    },
    {
     "name": "stderr",
     "output_type": "stream",
     "text": [
      "Training: 100%|██████████| 191/191 [00:11<00:00, 16.99it/s]\n",
      "Validation: 100%|██████████| 24/24 [00:00<00:00, 58.66it/s]\n"
     ]
    },
    {
     "name": "stdout",
     "output_type": "stream",
     "text": [
      "Time: 20241126-1402, Epoch 23/30, Train Loss: 0.1517, Val Loss: 0.0740\n"
     ]
    },
    {
     "name": "stderr",
     "output_type": "stream",
     "text": [
      "Training: 100%|██████████| 191/191 [00:11<00:00, 17.23it/s]\n",
      "Validation: 100%|██████████| 24/24 [00:00<00:00, 59.63it/s]\n"
     ]
    },
    {
     "name": "stdout",
     "output_type": "stream",
     "text": [
      "Time: 20241126-1403, Epoch 24/30, Train Loss: 0.1361, Val Loss: 0.0673\n"
     ]
    },
    {
     "name": "stderr",
     "output_type": "stream",
     "text": [
      "Training: 100%|██████████| 191/191 [00:11<00:00, 16.84it/s]\n",
      "Validation: 100%|██████████| 24/24 [00:00<00:00, 59.67it/s]\n"
     ]
    },
    {
     "name": "stdout",
     "output_type": "stream",
     "text": [
      "Time: 20241126-1403, Epoch 25/30, Train Loss: 0.1204, Val Loss: 0.0591\n"
     ]
    },
    {
     "name": "stderr",
     "output_type": "stream",
     "text": [
      "Training: 100%|██████████| 191/191 [00:11<00:00, 16.73it/s]\n",
      "Validation: 100%|██████████| 24/24 [00:00<00:00, 58.90it/s]\n"
     ]
    },
    {
     "name": "stdout",
     "output_type": "stream",
     "text": [
      "Time: 20241126-1403, Epoch 26/30, Train Loss: 0.1104, Val Loss: 0.0534\n"
     ]
    },
    {
     "name": "stderr",
     "output_type": "stream",
     "text": [
      "Training: 100%|██████████| 191/191 [00:11<00:00, 17.17it/s]\n",
      "Validation: 100%|██████████| 24/24 [00:00<00:00, 59.88it/s]\n"
     ]
    },
    {
     "name": "stdout",
     "output_type": "stream",
     "text": [
      "Time: 20241126-1403, Epoch 27/30, Train Loss: 0.0971, Val Loss: 0.0471\n"
     ]
    },
    {
     "name": "stderr",
     "output_type": "stream",
     "text": [
      "Training: 100%|██████████| 191/191 [00:11<00:00, 17.12it/s]\n",
      "Validation: 100%|██████████| 24/24 [00:00<00:00, 58.34it/s]\n"
     ]
    },
    {
     "name": "stdout",
     "output_type": "stream",
     "text": [
      "Time: 20241126-1403, Epoch 28/30, Train Loss: 0.0877, Val Loss: 0.0438\n"
     ]
    },
    {
     "name": "stderr",
     "output_type": "stream",
     "text": [
      "Training: 100%|██████████| 191/191 [00:10<00:00, 18.09it/s]\n",
      "Validation: 100%|██████████| 24/24 [00:00<00:00, 60.75it/s]\n"
     ]
    },
    {
     "name": "stdout",
     "output_type": "stream",
     "text": [
      "Time: 20241126-1404, Epoch 29/30, Train Loss: 0.0793, Val Loss: 0.0425\n"
     ]
    },
    {
     "name": "stderr",
     "output_type": "stream",
     "text": [
      "Training: 100%|██████████| 191/191 [00:10<00:00, 17.40it/s]\n",
      "Validation: 100%|██████████| 24/24 [00:00<00:00, 59.46it/s]\n"
     ]
    },
    {
     "name": "stdout",
     "output_type": "stream",
     "text": [
      "Time: 20241126-1404, Epoch 30/30, Train Loss: 0.0707, Val Loss: 0.0339\n"
     ]
    },
    {
     "name": "stderr",
     "output_type": "stream",
     "text": [
      "Validation: 100%|██████████| 24/24 [00:00<00:00, 63.26it/s]"
     ]
    },
    {
     "name": "stdout",
     "output_type": "stream",
     "text": [
      "Test Loss: 0.1001\n"
     ]
    },
    {
     "name": "stderr",
     "output_type": "stream",
     "text": [
      "\n"
     ]
    }
   ],
   "source": [
    "def main():\n",
    "    # Load configuration\n",
    "    config = Config()\n",
    "    \n",
    "    # Load dataset\n",
    "    dataset = SMILESDataset(config.filepath)\n",
    "\n",
    "    # Split dataset into train, validation, and test sets\n",
    "    train_size = int(0.8 * len(dataset))\n",
    "    val_size = int(0.1 * len(dataset))\n",
    "    test_size = len(dataset) - train_size - val_size\n",
    "    train_dataset, val_dataset, test_dataset = random_split(dataset, [train_size, val_size, test_size])\n",
    "    \n",
    "    # Create DataLoaders\n",
    "    train_loader = DataLoader(train_dataset, batch_size=config.batch_size, shuffle=True)\n",
    "    val_loader = DataLoader(val_dataset, batch_size=config.batch_size, shuffle=False)\n",
    "    test_loader = DataLoader(test_dataset, batch_size=config.batch_size, shuffle=False)\n",
    "    \n",
    "    # Initialize model, optimizer, and criterion\n",
    "    model = TransformerVAE(\n",
    "        vocab_size=len(dataset.vocab),\n",
    "        embedding_dim=config.input_dim,\n",
    "        hidden_dim=config.hidden_dim,\n",
    "        latent_dim=config.latent_dim,\n",
    "        num_heads=config.num_heads,\n",
    "        num_layers=config.num_layers,\n",
    "        dropout=config.dropout\n",
    "    ).to(config.device)\n",
    "    \n",
    "    optimizer = optim.Adam(model.parameters(), lr=config.learning_rate)\n",
    "    criterion = vae_loss\n",
    "    \n",
    "    # Create checkpoint directory\n",
    "    timestamp = datetime.now().strftime('%Y%m%d-%H%M')\n",
    "    checkpoint_dir = f\"./checkpoints/{timestamp}\"\n",
    "    os.makedirs(checkpoint_dir, exist_ok=True)\n",
    "    \n",
    "    # Training loop\n",
    "    best_val_loss = float('inf')\n",
    "    for epoch in range(config.epochs):\n",
    "        train_loss = train_epoch(model, train_loader, optimizer, criterion, config.device, config.beta)\n",
    "        val_loss = validate_epoch(model, val_loader, criterion, config.device, config.beta)\n",
    "        \n",
    "        print(f\"Time: {datetime.now().strftime('%Y%m%d-%H%M')}, Epoch {epoch+1}/{config.epochs}, Train Loss: {train_loss:.4f}, Val Loss: {val_loss:.4f}\")\n",
    "        \n",
    "        # Save the best model\n",
    "        if val_loss < best_val_loss:\n",
    "            best_val_loss = val_loss\n",
    "            torch.save(model.state_dict(), f\"{checkpoint_dir}/best_model.pth\")\n",
    "        \n",
    "        # Save the model at the end of each epoch\n",
    "        torch.save(model.state_dict(), f\"{checkpoint_dir}/model_epoch_{epoch+1}.pth\")\n",
    "    \n",
    "    # Save the final model\n",
    "    torch.save(model.state_dict(), f\"{checkpoint_dir}/final_model.pth\")\n",
    "    \n",
    "    # Test the model\n",
    "    model.load_state_dict(torch.load(f\"{checkpoint_dir}/best_model.pth\", weights_only=True))\n",
    "    test_loss = validate_epoch(model, test_loader, criterion, config.device, config.beta)\n",
    "    print(f\"Test Loss: {test_loss:.4f}\")\n",
    "    \n",
    "if __name__ == \"__main__\":\n",
    "    main()"
   ]
  }
 ],
 "metadata": {
  "kernelspec": {
   "display_name": "pt",
   "language": "python",
   "name": "python3"
  },
  "language_info": {
   "codemirror_mode": {
    "name": "ipython",
    "version": 3
   },
   "file_extension": ".py",
   "mimetype": "text/x-python",
   "name": "python",
   "nbconvert_exporter": "python",
   "pygments_lexer": "ipython3",
   "version": "3.10.15"
  }
 },
 "nbformat": 4,
 "nbformat_minor": 2
}
